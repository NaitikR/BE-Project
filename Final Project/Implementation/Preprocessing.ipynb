{
 "cells": [
  {
   "cell_type": "code",
   "execution_count": 103,
   "metadata": {},
   "outputs": [],
   "source": [
    "import re\n",
    "import string"
   ]
  },
  {
   "cell_type": "code",
   "execution_count": null,
   "metadata": {},
   "outputs": [],
   "source": [
    "stop_words=[आहे या आणि व नाही आहेत यानी हे तर ते असे होते केली हा ही पण करणयात काही केले एक केला अशी मात्र त्यानी सुरू करून होती असून आले त्यामुळे झाली होता दोन झाले मुबी होत त्या आता असा याच्या त्याच्या ता आली की पम तो झाला त्री तरी म्हणून त्याना अनेक काम माहिती हजार सागित्ले दिली आला आज ती तसेच एका याची येथील सर्व न डॉ तीन येथे पाटील असलयाचे त्याची काय आपल्या म्हणजे याना म्हणाले त्याचा असलेल्या मी गेल्या याचा येत म लाख कमी जात टा होणार किवा का अधिक घेऊन परयतन कोटी झालेल्या निर्ण्य येणार व्यकत]\n"
   ]
  },
  {
   "cell_type": "code",
   "execution_count": 23,
   "metadata": {},
   "outputs": [],
   "source": [
    "import pandas as pd"
   ]
  },
  {
   "cell_type": "code",
   "execution_count": 24,
   "metadata": {},
   "outputs": [],
   "source": [
    "df= pd.read_csv('tweets_test.csv',header=0)"
   ]
  },
  {
   "cell_type": "code",
   "execution_count": 27,
   "metadata": {},
   "outputs": [
    {
     "name": "stdout",
     "output_type": "stream",
     "text": [
      "                                                tweet  label\n",
      "0    #BetiBachao चा फक्त नारा देऊन उपयोग नाही. महि...      1\n",
      "1     पेट्रोल आणि डिझेलवर एक रूपया अधिभार लावल्यान...     -1\n",
      "2     लूट झूट का राज भागावो,  \\nरोजगार और विकास ला...      1\n",
      "3     महाराष्ट्र विकास आघाडी सरकारच्या मंत्रिमंडळ ...      1\n",
      "4     पिंपरीत अ‍ॅथलेटिक्स आणि विविध क्षेत्रांतल्या...      1\n",
      "5     राष्ट्रवादी काँग्रेस पार्टी कार्यालय अहमदनगर...      0\n",
      "6     झारखंडमध्ये विजय मिळविणारे @NCPspeaks चे नवन...      1\n",
      "7     राज्याचे उच्च व तंत्र शिक्षण मंत्री @samant_...      0\n",
      "8     पोलीस भरतीची तयारी करणाऱ्या विद्यार्थ्यांनी ...      0\n",
      "9     सरकारने छत्रपती शिवाजी महाराज यांचे नाव देत ...     -1\n",
      "10    अनेकदा पत्रकार बातमीच्या नादात नेत्यांना वैत...     -1\n",
      "11    मुजरा माझा त्या माँ जिजाऊला\\nघडविले तिने त्य...      1\n",
      "12    मराठा आरक्षणाचा कायदा झाला मात्र एकाही मराठा...     -1\n",
      "13    'दीपावली पाडवा' आणि 'बलिप्रतिपदे'च्या सर्वां...      1\n",
      "14    भीमा-पाटस साखर कारखान्याच्या कामगारांना २२ म...     -1\n",
      "15    माझ्या मतदार संघातील खारदाडां येथील शंभर वर्...      0\n",
      "16    नागपूरच्या मुलांना नागपुरातच रोजगार मिळेल, उ...      1\n",
      "17    मालवण तालुक्यातील तारकर्ली, देवबाग या किनाऱ्...     -1\n",
      "18    मागील मौसमात मराठवाड्यात पर्जन्यमान अत्यल्प ...      0\n",
      "19    सह्याद्री अतिथीगृहात पार पडलेल्या महाराष्ट्र...      0\n",
      "20    देशाचं स्वातंत्र्य, एकता, अखंडता, सार्वभौमता...      1\n",
      "21    सोलापूर जिल्ह्यातील माळशिरस तालुक्यात जाधववा...      1\n",
      "22    शिक्षकांच्या पेन्शन योजनेबाबत आज विधान परिषद...      0\n",
      "23    शिर्डीचे विद्यमान शिवसेना खासदार सदाशिव लोखं...      1\n",
      "24    अक्षय्य तृतीयाच्या मंगलदिनी आपल्या घरामध्ये ...      1\n",
      "25    गांधी जींनी काँग्रेस कार्यकर्त्यांना शिस्त ल...      1\n",
      "26                             रायगड, माणगाव तालुका\\n      0\n",
      "27    हिवाळी विधानसभाअधिवेशन 2019 \\nमाझे भाषण :\\nज...      0\n",
      "28    गौरी लंकेश हत्याप्रकरणातल्या संघटनेशी विरेंद...      0\n",
      "29    मा.उद्धव ठाकरे यांच्या नेतृत्वाखाली स्थापन ह...      1\n",
      "30    मराठा आरक्षणासाठी नेमलेल्या मागासवर्ग आयोगाच...      0\n",
      "31    खेड-शिवापूर टोल नाका परिसरातील वाहतूक कोंडी ...     -1\n",
      "32    या सदस्यांना पाठींबा दर्शवण्यासाठी मीही आज प...      1\n",
      "33    आपल्या सर्वांना पूर्वकल्पना दिल्याप्रमाणे, र...      0\n",
      "34    देशात आणि राज्यातही वातावरण चांगलं नाही, हेच...     -1\n",
      "35    पुणे जिल्हा ग्रामीण राष्ट्रवादी काँग्रेसतर्फ...     -1\n",
      "36    राष्ट्रवादी काँग्रेसने नजीब मुल्ला या तरुण, ...      1\n",
      "37    वैराग्यमूर्ती संत गाडगे महाराज यांना जयंतीदि...      1\n",
      "38    सत्तेत आल्यावर तीन महिन्यांत राज्य लोडशेडिंग...     -1\n",
      "39    यावेळी खा.@supriya_sule ताई, कामगार आयुक्त म...      0\n",
      "40    अजितदादा पवार, महाराष्ट्राच्या राजकारणातील ए...      1\n",
      "41    शेती, शेतकरी आणि ग्रामीण महाराष्ट्राला डोळ्य...      1\n",
      "42    🔹कशेडी घाट अवघ्या १० मिनिटात होणार पार\\n🔹तीन...      0\n",
      "43    'खो-खो' या खेळाचे संघटक व ज्येष्ठ कार्यकर्ते...     -1\n",
      "44    मा. प्रधानमंत्र्यांनी देशाला संबोधित करत काह...      1\n",
      "45    किती करायची तक्रार? @Dev_Fadnavis सरकारचा अस...     -1\n",
      "46    महाराष्ट्राची दुसरी राजधानी नागपूर हे आज गुन...     -1\n",
      "47    लोकं समस्या घेऊन जातील आणि हा बाबा मौनात असे...     -1\n",
      "48    कौटुंबिक हिंसाचारापासून संरक्षण ... \\n\\n#पूर...      0\n",
      "49    .@cmomaharashtra जीव मुठीत धरून या रस्त्यावर...     -1\n"
     ]
    }
   ],
   "source": [
    "print(df[:50])"
   ]
  },
  {
   "cell_type": "code",
   "execution_count": 28,
   "metadata": {},
   "outputs": [
    {
     "data": {
      "text/plain": [
       "0        #BetiBachao चा फक्त नारा देऊन उपयोग नाही. महि...\n",
       "1         पेट्रोल आणि डिझेलवर एक रूपया अधिभार लावल्यान...\n",
       "2         लूट झूट का राज भागावो,  \\nरोजगार और विकास ला...\n",
       "3         महाराष्ट्र विकास आघाडी सरकारच्या मंत्रिमंडळ ...\n",
       "4         पिंपरीत अ‍ॅथलेटिक्स आणि विविध क्षेत्रांतल्या...\n",
       "                              ...                        \n",
       "2245      जनसामान्यांचे प्रतिनिधी, संविधानाचे जाणकार, ...\n",
       "2246      अक्षय्य तृतियेच्या हार्दिक शुभेच्छा...\\n\\n#A...\n",
       "2247      अभाव दिसतो. कोरोनाने दिलेल्या संधीचा उपोयोग ...\n",
       "2248      मोदींच्या कामाला जनतेचा कौल! \\n‘सकाळ‘ मध्ये ...\n",
       "2249      शेतकऱ्यांचे पंचप्राण स्व .शरद जोशी यांना आज ...\n",
       "Name: tweet, Length: 2250, dtype: object"
      ]
     },
     "execution_count": 28,
     "metadata": {},
     "output_type": "execute_result"
    }
   ],
   "source": [
    "df[\"tweet\"]"
   ]
  },
  {
   "cell_type": "code",
   "execution_count": 32,
   "metadata": {},
   "outputs": [],
   "source": [
    "df_clean = df"
   ]
  },
  {
   "cell_type": "code",
   "execution_count": 34,
   "metadata": {
    "scrolled": true
   },
   "outputs": [
    {
     "data": {
      "text/plain": [
       "0        #BetiBachao चा फक्त नारा देऊन उपयोग नाही. महि...\n",
       "1         पेट्रोल आणि डिझेलवर एक रूपया अधिभार लावल्यान...\n",
       "2         लूट झूट का राज भागावो,  \\nरोजगार और विकास ला...\n",
       "3         महाराष्ट्र विकास आघाडी सरकारच्या मंत्रिमंडळ ...\n",
       "4         पिंपरीत अ‍ॅथलेटिक्स आणि विविध क्षेत्रांतल्या...\n",
       "                              ...                        \n",
       "2245      जनसामान्यांचे प्रतिनिधी, संविधानाचे जाणकार, ...\n",
       "2246      अक्षय्य तृतियेच्या हार्दिक शुभेच्छा...\\n\\n#A...\n",
       "2247      अभाव दिसतो. कोरोनाने दिलेल्या संधीचा उपोयोग ...\n",
       "2248      मोदींच्या कामाला जनतेचा कौल! \\n‘सकाळ‘ मध्ये ...\n",
       "2249      शेतकऱ्यांचे पंचप्राण स्व .शरद जोशी यांना आज ...\n",
       "Name: tweet, Length: 2250, dtype: object"
      ]
     },
     "execution_count": 34,
     "metadata": {},
     "output_type": "execute_result"
    }
   ],
   "source": [
    "df_clean.tweet"
   ]
  },
  {
   "cell_type": "code",
   "execution_count": 48,
   "metadata": {},
   "outputs": [],
   "source": [
    "#all https links and www and links\n",
    "\n",
    "df_clean.tweet = df_clean.tweet.apply(lambda x: re.sub(r'https?:\\/\\/\\S+', '', x))\n",
    "df_clean.tweet = df_clean.tweet.apply(lambda x: re.sub(r\"www\\.[a-zA-Z0-9]?\\.?(com)+|[a-zA-Z]+\\.(com)\\/[a-zA-Z0-9]|[a-zA-Z0-9]+\\.[a-zA-Z0-9]+\\.(com)\\/[a-zA-Z0-9\\/\\?\\=]\", '', x))"
   ]
  },
  {
   "cell_type": "code",
   "execution_count": 55,
   "metadata": {},
   "outputs": [
    {
     "data": {
      "text/plain": [
       "'  लूट झूट का राज भागावो,  \\nरोजगार और विकास लावो..!\\n\\nहा नारा बुलंद करत निघालेल्या युवक काँग्रेसच्या युवा क्रांती यात्रेचे देवगाव फाटा (जि. वर्धा) येथे युवक काँग्रेसच्या कार्यकर्त्यांनी दिमाखात स्वागत केले. @rssurjewala @Allavaru pic./Dr0K74Y7jK\\n'"
      ]
     },
     "execution_count": 55,
     "metadata": {},
     "output_type": "execute_result"
    }
   ],
   "source": [
    "\n",
    "df['tweet'][2]"
   ]
  },
  {
   "cell_type": "code",
   "execution_count": 53,
   "metadata": {},
   "outputs": [
    {
     "data": {
      "text/plain": [
       "'  लूट झूट का राज भागावो,  \\nरोजगार और विकास लावो..!\\n\\nहा नारा बुलंद करत निघालेल्या युवक काँग्रेसच्या युवा क्रांती यात्रेचे देवगाव फाटा (जि. वर्धा) येथे युवक काँग्रेसच्या कार्यकर्त्यांनी दिमाखात स्वागत केले. @rssurjewala @Allavaru pic./Dr0K74Y7jK\\n'"
      ]
     },
     "execution_count": 53,
     "metadata": {},
     "output_type": "execute_result"
    }
   ],
   "source": [
    "df_clean['tweet'][2]"
   ]
  },
  {
   "cell_type": "code",
   "execution_count": 56,
   "metadata": {},
   "outputs": [],
   "source": [
    "#pics.twitter links\n",
    "\n",
    "df_clean.tweet = df_clean.tweet.apply(lambda x: re.sub(r\"pic\\.\\/[a-zA-Z0-9]+|[a-z]+\\.(com)\", '', x))"
   ]
  },
  {
   "cell_type": "code",
   "execution_count": 58,
   "metadata": {},
   "outputs": [
    {
     "data": {
      "text/plain": [
       "'  नाशिक : शेतकरी असल्याचे दाखले आता रेशीमबागेतून आणायचे का?: राजू शेट्टी\\n\\nसौजन्य- ABP माझा... fb.me/1ZjWwgV9l\\n'"
      ]
     },
     "execution_count": 58,
     "metadata": {},
     "output_type": "execute_result"
    }
   ],
   "source": [
    "df_clean['tweet'][157]"
   ]
  },
  {
   "cell_type": "code",
   "execution_count": 60,
   "metadata": {},
   "outputs": [
    {
     "data": {
      "text/plain": [
       "'  काँग्रेसची न्याय योजना देशाकरिता गेमचेंजर\\n\\nदेशातील गरिबी निर्मूलनाचा काँग्रेसचा निर्धार\\n\\nपूनम महाजन यांची संपत्ती ९०० टक्क्यांनी कशी वाढली?\\nyoutu.be/6UtLuwJbvxo\\n'"
      ]
     },
     "execution_count": 60,
     "metadata": {},
     "output_type": "execute_result"
    }
   ],
   "source": [
    "df_clean['tweet'][156]"
   ]
  },
  {
   "cell_type": "code",
   "execution_count": 61,
   "metadata": {},
   "outputs": [],
   "source": [
    "#fb links\n",
    "\n",
    "df_clean.tweet = df_clean.tweet.apply(lambda x: re.sub(r\"fb\\.me\\/[a-zA-Z0-9]+|[a-z]+\\.(com)+\", '', x))"
   ]
  },
  {
   "cell_type": "code",
   "execution_count": 62,
   "metadata": {},
   "outputs": [
    {
     "data": {
      "text/plain": [
       "'  नाशिक : शेतकरी असल्याचे दाखले आता रेशीमबागेतून आणायचे का?: राजू शेट्टी\\n\\nसौजन्य- ABP माझा... ZjWwgV9l\\n'"
      ]
     },
     "execution_count": 62,
     "metadata": {},
     "output_type": "execute_result"
    }
   ],
   "source": [
    "df_clean['tweet'][157]"
   ]
  },
  {
   "cell_type": "code",
   "execution_count": 63,
   "metadata": {},
   "outputs": [],
   "source": [
    "#youtube links\n",
    "\n",
    "df_clean.tweet = df_clean.tweet.apply(lambda x: re.sub(r\"youtu\\.be\\/[a-zA-Z0-9\\/\\?\\=]+|[a-z]+\\.(com)+\", '', x))"
   ]
  },
  {
   "cell_type": "code",
   "execution_count": null,
   "metadata": {},
   "outputs": [],
   "source": []
  },
  {
   "cell_type": "code",
   "execution_count": 66,
   "metadata": {},
   "outputs": [
    {
     "data": {
      "text/plain": [
       "'  💥 शेतकऱ्यांच्या आवाजाने २० नोव्हेंबरला दिल्ली हादरली पाहिजे -खासदार राजू शेट्टी \\n💥 दिल्लीला गेलेला शेतकरी खाली... Jvkmcime\\n'"
      ]
     },
     "execution_count": 66,
     "metadata": {},
     "output_type": "execute_result"
    }
   ],
   "source": [
    "df_clean['tweet'][324]"
   ]
  },
  {
   "cell_type": "code",
   "execution_count": 67,
   "metadata": {},
   "outputs": [],
   "source": [
    "#spaces\n",
    "\n",
    "df_clean.tweet = df_clean.tweet.apply(lambda x: re.sub(r\"\\n\", ' ', x))"
   ]
  },
  {
   "cell_type": "code",
   "execution_count": 68,
   "metadata": {},
   "outputs": [
    {
     "data": {
      "text/plain": [
       "'  काँग्रेसची न्याय योजना देशाकरिता गेमचेंजरदेशातील गरिबी निर्मूलनाचा काँग्रेसचा निर्धारपूनम महाजन यांची संपत्ती ९०० टक्क्यांनी कशी वाढली?'"
      ]
     },
     "execution_count": 68,
     "metadata": {},
     "output_type": "execute_result"
    }
   ],
   "source": [
    "df_clean['tweet'][156]"
   ]
  },
  {
   "cell_type": "code",
   "execution_count": 69,
   "metadata": {},
   "outputs": [],
   "source": [
    "#mentions\n",
    "df_clean.tweet = df_clean.tweet.apply(lambda x: re.sub(r\"@[a-zA-Z0-9_]+\", '', x))"
   ]
  },
  {
   "cell_type": "code",
   "execution_count": 70,
   "metadata": {},
   "outputs": [
    {
     "data": {
      "text/plain": [
       "'  . जीव मुठीत धरून या रस्त्यावरून प्रवास करणाऱ्या जनतेचा विचार केव्हा करणार आहात?  (२/२)#SelfieWithPotholes.'"
      ]
     },
     "execution_count": 70,
     "metadata": {},
     "output_type": "execute_result"
    }
   ],
   "source": [
    "df_clean['tweet'][49]"
   ]
  },
  {
   "cell_type": "code",
   "execution_count": 71,
   "metadata": {},
   "outputs": [
    {
     "data": {
      "text/plain": [
       "'  वाढदिवसाच्या हार्दिक शुभेच्छा  जी. तुम्हाला उत्तम स्वास्थ्य आणि दीर्घायुष्यासाठी सदिच्छा.'"
      ]
     },
     "execution_count": 71,
     "metadata": {},
     "output_type": "execute_result"
    }
   ],
   "source": [
    "df_clean['tweet'][329]"
   ]
  },
  {
   "cell_type": "code",
   "execution_count": 72,
   "metadata": {},
   "outputs": [],
   "source": [
    "#hashags in english\n",
    "df_clean.tweet = df_clean.tweet.apply(lambda x: re.sub(r\"#[a-zA-Z0-9_]+\", '', x))"
   ]
  },
  {
   "cell_type": "code",
   "execution_count": 73,
   "metadata": {},
   "outputs": [
    {
     "data": {
      "text/plain": [
       "' महाजनादेशयात्रा चे फोंडाघाट (सिंधुदुर्ग जिल्हा) येथील स्वागत..  '"
      ]
     },
     "execution_count": 73,
     "metadata": {},
     "output_type": "execute_result"
    }
   ],
   "source": [
    "df_clean['tweet'][305]"
   ]
  },
  {
   "cell_type": "code",
   "execution_count": 74,
   "metadata": {},
   "outputs": [
    {
     "data": {
      "text/plain": [
       "'  शेगावमध्ये संत गजानन महाराजांच्या समाधीचं दर्शन घेऊन #परिवर्तन यात्रेला सुरुवात केली. #निर्धार_परिवर्तनाचा '"
      ]
     },
     "execution_count": 74,
     "metadata": {},
     "output_type": "execute_result"
    }
   ],
   "source": [
    "df_clean['tweet'][308]"
   ]
  },
  {
   "cell_type": "code",
   "execution_count": 75,
   "metadata": {},
   "outputs": [
    {
     "data": {
      "text/plain": [
       "'  आज #हल्लाबोल आंदोलनानिमित्त #सोलापूर जिल्ह्यात असताना #तुळजापूर येथे आई तुळजाभवानीचे दर्शन घेतले. राष्ट्रवादी काँग्रेसने सरकारच्या निष्क्रियतेविरोधात पुकारलेले हे आंदोलन यशस्वी करण्याचे गाऱ्हाणे घातले. '"
      ]
     },
     "execution_count": 75,
     "metadata": {},
     "output_type": "execute_result"
    }
   ],
   "source": [
    "df_clean['tweet'][342]"
   ]
  },
  {
   "cell_type": "code",
   "execution_count": 76,
   "metadata": {},
   "outputs": [],
   "source": [
    "#remove hash # from other hashtags as marathi hashtags might be relevant\n",
    "\n",
    "df_clean.tweet = df_clean.tweet.apply(lambda x: re.sub(r\"#\", ' ', x))"
   ]
  },
  {
   "cell_type": "code",
   "execution_count": 81,
   "metadata": {},
   "outputs": [
    {
     "data": {
      "text/plain": [
       "'  लोकसत्ता मधील आजचा लेख /vishesh-news/n… '"
      ]
     },
     "execution_count": 81,
     "metadata": {},
     "output_type": "execute_result"
    }
   ],
   "source": [
    "df_clean['tweet'][507] "
   ]
  },
  {
   "cell_type": "code",
   "execution_count": 82,
   "metadata": {},
   "outputs": [],
   "source": []
  },
  {
   "cell_type": "code",
   "execution_count": 83,
   "metadata": {},
   "outputs": [],
   "source": [
    "#english nos and remaining text\n",
    "df_clean.tweet = df_clean.tweet.apply(lambda x: re.sub(r\"[a-zA-Z0-9]\", '', x))\n",
    "#marathi nos\n",
    "df_clean.tweet = df_clean.tweet.apply(lambda x: re.sub(r\"[१२३४५६७८९०]\", \" \", x))"
   ]
  },
  {
   "cell_type": "code",
   "execution_count": 84,
   "metadata": {},
   "outputs": [
    {
     "data": {
      "text/plain": [
       "'  आगामी निवडणुका शिवसेना स्वबळावरच लढवणार : राऊत     ..//…'"
      ]
     },
     "execution_count": 84,
     "metadata": {},
     "output_type": "execute_result"
    }
   ],
   "source": [
    "df_clean['tweet'][2194]"
   ]
  },
  {
   "cell_type": "code",
   "execution_count": 86,
   "metadata": {},
   "outputs": [
    {
     "data": {
      "text/plain": [
       "'          !   ! महाराष्ट्र प्रदेश युवक काँग्रेसच्या टिमकडून आपणा सर्वांना स्वातंत्र्य दिनाच्या हार्दिक शुभेच्छा !जय हिंद ! स्वतंत्रतादिवस  '"
      ]
     },
     "execution_count": 86,
     "metadata": {},
     "output_type": "execute_result"
    }
   ],
   "source": [
    "df_clean['tweet'][2042]"
   ]
  },
  {
   "cell_type": "code",
   "execution_count": 88,
   "metadata": {},
   "outputs": [
    {
     "data": {
      "text/plain": [
       "'             ₹21,00,000/-   ! अहमदनगर जिल्हा मध्यवर्ती सहकारी बँकेतर्फे मुख्यमंत्री सहायता निधीसाठी २१ लाखांचा धनादेश प्राप्त झाला, मी त्यांचा आभारी आहे ! '"
      ]
     },
     "execution_count": 88,
     "metadata": {},
     "output_type": "execute_result"
    }
   ],
   "source": [
    "df_clean['tweet'][1848]"
   ]
  },
  {
   "cell_type": "code",
   "execution_count": null,
   "metadata": {},
   "outputs": [],
   "source": []
  },
  {
   "cell_type": "code",
   "execution_count": 99,
   "metadata": {},
   "outputs": [],
   "source": [
    "#multiple spaces -> single space\n",
    "df_clean.tweet = df_clean.tweet.apply(lambda x: re.sub(r\"  +\", \" \", x))"
   ]
  },
  {
   "cell_type": "code",
   "execution_count": 106,
   "metadata": {},
   "outputs": [
    {
     "data": {
      "text/plain": [
       "' संघाला असलेच धंदे सुचू शकतात स्वतःच्या घरात तुळस नसेल पण कोणी काय खावं काय करावं आणि रोप कुठलं लावावं हे संघ ठरवणार 24…'"
      ]
     },
     "execution_count": 106,
     "metadata": {},
     "output_type": "execute_result"
    }
   ],
   "source": [
    "df_clean['tweet'][1770]"
   ]
  },
  {
   "cell_type": "code",
   "execution_count": 108,
   "metadata": {},
   "outputs": [
    {
     "data": {
      "text/plain": [
       "' विद्येचे माहेरघर म्हणून ओळखल्या जाणाऱ्या पुण्यातील नामवंत शिक्षण संस्था म्हणतात परिक्षा झाल्याच पाहिजेत मामुख्यमंत्र्यांनी तर सरासरीचा निर्णय जाहीर केला होता ना मग त्याचे काय झाले तर उच्च शिक्षण मंत्री निर्णयासाठी योग्य वेळेची वाट पाहत आहेत मग नेमके खरे काय 12 '"
      ]
     },
     "execution_count": 108,
     "metadata": {},
     "output_type": "execute_result"
    }
   ],
   "source": [
    "df_clean['tweet'][1945]"
   ]
  },
  {
   "cell_type": "code",
   "execution_count": 104,
   "metadata": {},
   "outputs": [],
   "source": [
    "def remove_punctuations(text):\n",
    "    for punctuation in string.punctuation:\n",
    "        text = text.replace(punctuation, '')\n",
    "    return text\n",
    "\n",
    "df_clean.tweet = df_clean.tweet.apply(remove_punctuations)"
   ]
  },
  {
   "cell_type": "code",
   "execution_count": 109,
   "metadata": {},
   "outputs": [],
   "source": []
  },
  {
   "cell_type": "code",
   "execution_count": 125,
   "metadata": {},
   "outputs": [],
   "source": [
    "def remove_emojis(data):\n",
    "    emoj = re.compile(\"[\"\n",
    "        u\"\\U0001F600-\\U0001F64F\"  # emoticons\n",
    "        u\"\\U0001F300-\\U0001F5FF\"  # symbols & pictographs\n",
    "        u\"\\U0001F680-\\U0001F6FF\"  # transport & map symbols\n",
    "        u\"\\U0001F1E0-\\U0001F1FF\"  # flags (iOS)\n",
    "        u\"\\U00002702-\\U000027B0\"\n",
    "        u\"\\U00002702-\\U000027B0\"\n",
    "        u\"\\U000024C2-\\U0001F251\"\n",
    "        u\"\\U0001f926-\\U0001f937\"\n",
    "        u\"\\U00010000-\\U0010ffff\"\n",
    "        u\"\\u2640-\\u2642\" \n",
    "        u\"\\u2600-\\u2B55\"\n",
    "        u\"\\u200d\"\n",
    "        u\"\\u23cf\"\n",
    "        u\"\\u23e9\"\n",
    "        u\"\\u231a\"\n",
    "        u\"\\ufe0f\"  # dingbats\n",
    "        u\"\\u3030\"              \"]+\", re.UNICODE)\n",
    "    return re.sub(emoj, '', data)\n",
    "\n",
    "df_clean.tweet = df_clean.tweet.apply(remove_emojis)"
   ]
  },
  {
   "cell_type": "code",
   "execution_count": 126,
   "metadata": {},
   "outputs": [
    {
     "data": {
      "text/plain": [
       "' हा हा हा भाजपाच्या पापांची हंडी फोडली तर म्हणे हिंदू समाजाची कुचेष्टा  आजच म्हणाले  अनाचाराची अत्याचाराची दुराचाराची व भ्रष्टाचाराची हंडी फोडणार …ही हिंदू समाजाची कुचेष्टा नव्हे का पापीमुख्यमंत्री पापीभाजपा 4…'"
      ]
     },
     "execution_count": 126,
     "metadata": {},
     "output_type": "execute_result"
    }
   ],
   "source": [
    "df_clean['tweet'][744]"
   ]
  },
  {
   "cell_type": "code",
   "execution_count": 127,
   "metadata": {},
   "outputs": [],
   "source": [
    "df_clean.to_csv(\"clean_test.csv\")"
   ]
  },
  {
   "cell_type": "code",
   "execution_count": 136,
   "metadata": {},
   "outputs": [],
   "source": [
    "\n",
    "\n",
    "######################################################################################################################"
   ]
  },
  {
   "cell_type": "code",
   "execution_count": 128,
   "metadata": {},
   "outputs": [],
   "source": [
    "data=pd.read_csv('tweets_test.csv',header=0)"
   ]
  },
  {
   "cell_type": "code",
   "execution_count": 129,
   "metadata": {},
   "outputs": [
    {
     "data": {
      "text/html": [
       "<div>\n",
       "<style scoped>\n",
       "    .dataframe tbody tr th:only-of-type {\n",
       "        vertical-align: middle;\n",
       "    }\n",
       "\n",
       "    .dataframe tbody tr th {\n",
       "        vertical-align: top;\n",
       "    }\n",
       "\n",
       "    .dataframe thead th {\n",
       "        text-align: right;\n",
       "    }\n",
       "</style>\n",
       "<table border=\"1\" class=\"dataframe\">\n",
       "  <thead>\n",
       "    <tr style=\"text-align: right;\">\n",
       "      <th></th>\n",
       "      <th>tweet</th>\n",
       "      <th>label</th>\n",
       "    </tr>\n",
       "  </thead>\n",
       "  <tbody>\n",
       "    <tr>\n",
       "      <th>0</th>\n",
       "      <td>#BetiBachao चा फक्त नारा देऊन उपयोग नाही. महि...</td>\n",
       "      <td>1</td>\n",
       "    </tr>\n",
       "    <tr>\n",
       "      <th>1</th>\n",
       "      <td>पेट्रोल आणि डिझेलवर एक रूपया अधिभार लावल्यान...</td>\n",
       "      <td>-1</td>\n",
       "    </tr>\n",
       "    <tr>\n",
       "      <th>2</th>\n",
       "      <td>लूट झूट का राज भागावो,  \\nरोजगार और विकास ला...</td>\n",
       "      <td>1</td>\n",
       "    </tr>\n",
       "    <tr>\n",
       "      <th>3</th>\n",
       "      <td>महाराष्ट्र विकास आघाडी सरकारच्या मंत्रिमंडळ ...</td>\n",
       "      <td>1</td>\n",
       "    </tr>\n",
       "    <tr>\n",
       "      <th>4</th>\n",
       "      <td>पिंपरीत अ‍ॅथलेटिक्स आणि विविध क्षेत्रांतल्या...</td>\n",
       "      <td>1</td>\n",
       "    </tr>\n",
       "    <tr>\n",
       "      <th>...</th>\n",
       "      <td>...</td>\n",
       "      <td>...</td>\n",
       "    </tr>\n",
       "    <tr>\n",
       "      <th>2245</th>\n",
       "      <td>जनसामान्यांचे प्रतिनिधी, संविधानाचे जाणकार, ...</td>\n",
       "      <td>1</td>\n",
       "    </tr>\n",
       "    <tr>\n",
       "      <th>2246</th>\n",
       "      <td>अक्षय्य तृतियेच्या हार्दिक शुभेच्छा...\\n\\n#A...</td>\n",
       "      <td>1</td>\n",
       "    </tr>\n",
       "    <tr>\n",
       "      <th>2247</th>\n",
       "      <td>अभाव दिसतो. कोरोनाने दिलेल्या संधीचा उपोयोग ...</td>\n",
       "      <td>0</td>\n",
       "    </tr>\n",
       "    <tr>\n",
       "      <th>2248</th>\n",
       "      <td>मोदींच्या कामाला जनतेचा कौल! \\n‘सकाळ‘ मध्ये ...</td>\n",
       "      <td>1</td>\n",
       "    </tr>\n",
       "    <tr>\n",
       "      <th>2249</th>\n",
       "      <td>शेतकऱ्यांचे पंचप्राण स्व .शरद जोशी यांना आज ...</td>\n",
       "      <td>1</td>\n",
       "    </tr>\n",
       "  </tbody>\n",
       "</table>\n",
       "<p>2250 rows × 2 columns</p>\n",
       "</div>"
      ],
      "text/plain": [
       "                                                  tweet  label\n",
       "0      #BetiBachao चा फक्त नारा देऊन उपयोग नाही. महि...      1\n",
       "1       पेट्रोल आणि डिझेलवर एक रूपया अधिभार लावल्यान...     -1\n",
       "2       लूट झूट का राज भागावो,  \\nरोजगार और विकास ला...      1\n",
       "3       महाराष्ट्र विकास आघाडी सरकारच्या मंत्रिमंडळ ...      1\n",
       "4       पिंपरीत अ‍ॅथलेटिक्स आणि विविध क्षेत्रांतल्या...      1\n",
       "...                                                 ...    ...\n",
       "2245    जनसामान्यांचे प्रतिनिधी, संविधानाचे जाणकार, ...      1\n",
       "2246    अक्षय्य तृतियेच्या हार्दिक शुभेच्छा...\\n\\n#A...      1\n",
       "2247    अभाव दिसतो. कोरोनाने दिलेल्या संधीचा उपोयोग ...      0\n",
       "2248    मोदींच्या कामाला जनतेचा कौल! \\n‘सकाळ‘ मध्ये ...      1\n",
       "2249    शेतकऱ्यांचे पंचप्राण स्व .शरद जोशी यांना आज ...      1\n",
       "\n",
       "[2250 rows x 2 columns]"
      ]
     },
     "execution_count": 129,
     "metadata": {},
     "output_type": "execute_result"
    }
   ],
   "source": [
    "data"
   ]
  },
  {
   "cell_type": "code",
   "execution_count": 130,
   "metadata": {},
   "outputs": [],
   "source": [
    "#english nos and remaining text\n",
    "data.tweet = data.tweet.apply(lambda x: re.sub(r\"[a-zA-Z0-9]\", '', x))\n",
    "#marathi nos\n",
    "data.tweet = data.tweet.apply(lambda x: re.sub(r\"[१२३४५६७८९०]\", \" \", x))"
   ]
  },
  {
   "cell_type": "code",
   "execution_count": 131,
   "metadata": {},
   "outputs": [],
   "source": [
    "def remove_punctuations(text):\n",
    "    for punctuation in string.punctuation:\n",
    "        text = text.replace(punctuation, '')\n",
    "    return text\n",
    "\n",
    "data.tweet = data.tweet.apply(remove_punctuations)"
   ]
  },
  {
   "cell_type": "code",
   "execution_count": 132,
   "metadata": {},
   "outputs": [],
   "source": [
    "def remove_emojis(data):\n",
    "    emoj = re.compile(\"[\"\n",
    "        u\"\\U0001F600-\\U0001F64F\"  # emoticons\n",
    "        u\"\\U0001F300-\\U0001F5FF\"  # symbols & pictographs\n",
    "        u\"\\U0001F680-\\U0001F6FF\"  # transport & map symbols\n",
    "        u\"\\U0001F1E0-\\U0001F1FF\"  # flags (iOS)\n",
    "        u\"\\U00002702-\\U000027B0\"\n",
    "        u\"\\U00002702-\\U000027B0\"\n",
    "        u\"\\U000024C2-\\U0001F251\"\n",
    "        u\"\\U0001f926-\\U0001f937\"\n",
    "        u\"\\U00010000-\\U0010ffff\"\n",
    "        u\"\\u2640-\\u2642\" \n",
    "        u\"\\u2600-\\u2B55\"\n",
    "        u\"\\u200d\"\n",
    "        u\"\\u23cf\"\n",
    "        u\"\\u23e9\"\n",
    "        u\"\\u231a\"\n",
    "        u\"\\ufe0f\"  # dingbats\n",
    "        u\"\\u3030\"              \"]+\", re.UNICODE)\n",
    "    return re.sub(emoj, '', data)\n",
    "\n",
    "data.tweet = data.tweet.apply(remove_emojis)"
   ]
  },
  {
   "cell_type": "code",
   "execution_count": 133,
   "metadata": {},
   "outputs": [],
   "source": [
    "#multiple spaces -> single space\n",
    "data.tweet = data.tweet.apply(lambda x: re.sub(r\"  +\", \" \", x))"
   ]
  },
  {
   "cell_type": "code",
   "execution_count": 134,
   "metadata": {},
   "outputs": [],
   "source": [
    "data.to_csv(\"newclean.csv\")"
   ]
  },
  {
   "cell_type": "code",
   "execution_count": null,
   "metadata": {},
   "outputs": [],
   "source": []
  },
  {
   "cell_type": "code",
   "execution_count": null,
   "metadata": {},
   "outputs": [],
   "source": []
  },
  {
   "cell_type": "code",
   "execution_count": null,
   "metadata": {},
   "outputs": [],
   "source": []
  },
  {
   "cell_type": "code",
   "execution_count": null,
   "metadata": {},
   "outputs": [],
   "source": []
  },
  {
   "cell_type": "code",
   "execution_count": null,
   "metadata": {},
   "outputs": [],
   "source": []
  },
  {
   "cell_type": "code",
   "execution_count": null,
   "metadata": {},
   "outputs": [],
   "source": [
    "… \n",
    "॥।"
   ]
  },
  {
   "cell_type": "code",
   "execution_count": 138,
   "metadata": {},
   "outputs": [],
   "source": [
    "data=pd.read_csv('tweets_train.csv',header=0)"
   ]
  },
  {
   "cell_type": "code",
   "execution_count": 142,
   "metadata": {},
   "outputs": [
    {
     "data": {
      "text/plain": [
       "0          ज्येष्ठ पत्रकार अनंत दीक्षित यांच्या निधनाचे...\n",
       "1          सर्वोच्च न्यायालयाचे निर्देश डावलून पुणे पोल...\n",
       "2          उद्धव ठाकरेंनी भाजपासोबत युती करून शिवसैनिका...\n",
       "3          आपला समाज खूप मोठा आहे. त्यात अनेक घटक अंतर्...\n",
       "4        बलात्काराचा बदला बलात्काराने घेतला पाहिजे हे म...\n",
       "                               ...                        \n",
       "12109      त्याचबरोबर काजू व्यावसायिकांची मागील कालावधी...\n",
       "12110      सरकारने कर्जमाफी योजना लागू करुन सुमारे २ वर...\n",
       "12111      लोकशाहीत मतदारच खऱ्या अर्थाने सत्ताधारी असतो...\n",
       "12112      छत्रपती शिवाजी महाराज यांच्या नावे शिवसेनेची...\n",
       "12113      संभाजी भिडेंना रोखा, अन्यथा महाराष्ट्राचा कठ...\n",
       "Name: tweet, Length: 12114, dtype: object"
      ]
     },
     "execution_count": 142,
     "metadata": {},
     "output_type": "execute_result"
    }
   ],
   "source": [
    "data.tweet"
   ]
  },
  {
   "cell_type": "code",
   "execution_count": null,
   "metadata": {},
   "outputs": [],
   "source": []
  }
 ],
 "metadata": {
  "kernelspec": {
   "display_name": "Python 3",
   "language": "python",
   "name": "python3"
  },
  "language_info": {
   "codemirror_mode": {
    "name": "ipython",
    "version": 3
   },
   "file_extension": ".py",
   "mimetype": "text/x-python",
   "name": "python",
   "nbconvert_exporter": "python",
   "pygments_lexer": "ipython3",
   "version": "3.8.5"
  }
 },
 "nbformat": 4,
 "nbformat_minor": 4
}
