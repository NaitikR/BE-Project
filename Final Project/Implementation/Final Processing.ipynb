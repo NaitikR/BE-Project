{
 "cells": [
  {
   "cell_type": "code",
   "execution_count": 1,
   "source": [
    "import pandas as pd\r\n",
    "import re\r\n",
    "import string"
   ],
   "outputs": [],
   "metadata": {}
  },
  {
   "cell_type": "code",
   "execution_count": 2,
   "source": [
    "df= pd.read_csv('tweets_valid.csv',header=0)"
   ],
   "outputs": [],
   "metadata": {}
  },
  {
   "cell_type": "code",
   "execution_count": 3,
   "source": [
    "df_clean = df"
   ],
   "outputs": [],
   "metadata": {}
  },
  {
   "cell_type": "code",
   "execution_count": 4,
   "source": [
    "#newline replaced by spaces\r\n",
    "\r\n",
    "df_clean.tweet = df_clean.tweet.apply(lambda x: re.sub(r\"\\n\", ' ', x))"
   ],
   "outputs": [],
   "metadata": {}
  },
  {
   "cell_type": "code",
   "execution_count": 14,
   "source": [
    "df_clean['tweet'][57]"
   ],
   "outputs": [
    {
     "output_type": "execute_result",
     "data": {
      "text/plain": [
       "' चास कमान ता खेड जि पुणे येथे रयत शिक्षण संस्थेच्या जवाहर विद्यालयाच्या नुतनीकरण इमारतीच्या उद्घाटन समारंभात मनोगत व्यक्त करताना '"
      ]
     },
     "metadata": {},
     "execution_count": 14
    }
   ],
   "metadata": {}
  },
  {
   "cell_type": "code",
   "execution_count": 7,
   "source": [
    "#english nos and text(all links, hashtags, mentions)\r\n",
    "df_clean.tweet = df_clean.tweet.apply(lambda x: re.sub(r\"[a-zA-Z0-9]\", ' ', x))\r\n",
    "#marathi nos and fullstops etc\r\n",
    "df_clean.tweet = df_clean.tweet.apply(lambda x: re.sub(r\"[१२३४५६७८९०₹•…॥।]\", \" \", x))"
   ],
   "outputs": [],
   "metadata": {}
  },
  {
   "cell_type": "code",
   "execution_count": 9,
   "source": [
    "def remove_emojis(data):\r\n",
    "    emoj = re.compile(\"[\"\r\n",
    "        u\"\\U0001F600-\\U0001F64F\"  # emoticons\r\n",
    "        u\"\\U0001F300-\\U0001F5FF\"  # symbols & pictographs\r\n",
    "        u\"\\U0001F680-\\U0001F6FF\"  # transport & map symbols\r\n",
    "        u\"\\U0001F1E0-\\U0001F1FF\"  # flags (iOS)\r\n",
    "        u\"\\U00002702-\\U000027B0\"\r\n",
    "        u\"\\U00002702-\\U000027B0\"\r\n",
    "        u\"\\U000024C2-\\U0001F251\"\r\n",
    "        u\"\\U0001f926-\\U0001f937\"\r\n",
    "        u\"\\U00010000-\\U0010ffff\"\r\n",
    "        u\"\\u2640-\\u2642\" \r\n",
    "        u\"\\u2600-\\u2B55\"\r\n",
    "        u\"\\u200d\"\r\n",
    "        u\"\\u23cf\"\r\n",
    "        u\"\\u23e9\"\r\n",
    "        u\"\\u231a\"\r\n",
    "        u\"\\ufe0f\"  # dingbats\r\n",
    "        u\"\\u3030\"              \"]+\", re.UNICODE)\r\n",
    "    return re.sub(emoj, '', data)\r\n",
    "\r\n",
    "df_clean.tweet = df_clean.tweet.apply(remove_emojis)"
   ],
   "outputs": [],
   "metadata": {}
  },
  {
   "cell_type": "code",
   "execution_count": 11,
   "source": [
    "def remove_punctuations(text):\r\n",
    "    for punctuation in string.punctuation:\r\n",
    "        text = text.replace(punctuation, ' ')\r\n",
    "    return text\r\n",
    "\r\n",
    "df_clean.tweet = df_clean.tweet.apply(remove_punctuations)"
   ],
   "outputs": [],
   "metadata": {}
  },
  {
   "cell_type": "code",
   "execution_count": 13,
   "source": [
    "#multiple spaces -> single space\r\n",
    "df_clean.tweet = df_clean.tweet.apply(lambda x: re.sub(r\"  +\", \" \", x))"
   ],
   "outputs": [],
   "metadata": {}
  },
  {
   "cell_type": "code",
   "execution_count": 15,
   "source": [
    "df_clean.to_csv(\"tweets_valid_clean.csv\")"
   ],
   "outputs": [],
   "metadata": {}
  },
  {
   "cell_type": "code",
   "execution_count": null,
   "source": [],
   "outputs": [],
   "metadata": {}
  }
 ],
 "metadata": {
  "kernelspec": {
   "display_name": "Python 3",
   "language": "python",
   "name": "python3"
  },
  "language_info": {
   "codemirror_mode": {
    "name": "ipython",
    "version": 3
   },
   "file_extension": ".py",
   "mimetype": "text/x-python",
   "name": "python",
   "nbconvert_exporter": "python",
   "pygments_lexer": "ipython3",
   "version": "3.8.5"
  }
 },
 "nbformat": 4,
 "nbformat_minor": 4
}